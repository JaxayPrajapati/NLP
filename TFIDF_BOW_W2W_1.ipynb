{
  "nbformat": 4,
  "nbformat_minor": 0,
  "metadata": {
    "colab": {
      "name": "TFIDF_BOW_W2W_1.ipynb",
      "provenance": []
    },
    "kernelspec": {
      "name": "python3",
      "display_name": "Python 3"
    },
    "language_info": {
      "name": "python"
    }
  },
  "cells": [
    {
      "cell_type": "code",
      "execution_count": null,
      "metadata": {
        "id": "qyBys6GyDYgp"
      },
      "outputs": [],
      "source": [
        "import re\n",
        "import nltk\n",
        "nltk.download('all')\n",
        "from nltk.stem import PorterStemmer\n",
        "from nltk.corpus import stopwords\n",
        "from nltk.stem import WordNetLemmatizer"
      ]
    },
    {
      "cell_type": "code",
      "source": [
        "paragraph = \"India, officially the Republic of India (Hindi: Bhārat Gaṇarājya),is a country in South Asia. It is the seventh-largest country by area, the second-most populous country, and the most populous democracy in the world. Bounded by the Indian Ocean on the south, the Arabian Sea on the southwest, and the Bay of Bengal on the southeast, it shares land borders with Pakistan to the west;[f] China, Nepal, and Bhutan to the north; and Bangladesh and Myanmar to the east. In the Indian Ocean, India is in the vicinity of Sri Lanka and the Maldives; its Andaman and Nicobar Islands share a maritime border with Thailand, Myanmar and Indonesia.\""
      ],
      "metadata": {
        "id": "9cG02lBcHFeb"
      },
      "execution_count": 2,
      "outputs": []
    },
    {
      "cell_type": "code",
      "source": [
        "paragraph"
      ],
      "metadata": {
        "colab": {
          "base_uri": "https://localhost:8080/",
          "height": 87
        },
        "id": "6oqRBk5WHDwg",
        "outputId": "c2fbd306-09e3-4b26-ac13-bdbbde3d4ae4"
      },
      "execution_count": 3,
      "outputs": [
        {
          "output_type": "execute_result",
          "data": {
            "text/plain": [
              "'India, officially the Republic of India (Hindi: Bhārat Gaṇarājya),is a country in South Asia. It is the seventh-largest country by area, the second-most populous country, and the most populous democracy in the world. Bounded by the Indian Ocean on the south, the Arabian Sea on the southwest, and the Bay of Bengal on the southeast, it shares land borders with Pakistan to the west;[f] China, Nepal, and Bhutan to the north; and Bangladesh and Myanmar to the east. In the Indian Ocean, India is in the vicinity of Sri Lanka and the Maldives; its Andaman and Nicobar Islands share a maritime border with Thailand, Myanmar and Indonesia.'"
            ],
            "application/vnd.google.colaboratory.intrinsic+json": {
              "type": "string"
            }
          },
          "metadata": {},
          "execution_count": 3
        }
      ]
    },
    {
      "cell_type": "code",
      "source": [
        "## Tokenization -- convert paragraph --> sentences --> words\n",
        "sentences = nltk.sent_tokenize(paragraph)"
      ],
      "metadata": {
        "id": "e60zpmNQHXz4"
      },
      "execution_count": 17,
      "outputs": []
    },
    {
      "cell_type": "code",
      "source": [
        "## Stemming \n",
        "stemmer = PorterStemmer()"
      ],
      "metadata": {
        "id": "Jsh1uhzRIBfC"
      },
      "execution_count": 6,
      "outputs": []
    },
    {
      "cell_type": "code",
      "source": [
        "stemmer.stem(\"history\")"
      ],
      "metadata": {
        "colab": {
          "base_uri": "https://localhost:8080/",
          "height": 35
        },
        "id": "haWWu71nIhKT",
        "outputId": "665dc487-0d3a-4011-ffd5-aab937edf6da"
      },
      "execution_count": 7,
      "outputs": [
        {
          "output_type": "execute_result",
          "data": {
            "text/plain": [
              "'histori'"
            ],
            "application/vnd.google.colaboratory.intrinsic+json": {
              "type": "string"
            }
          },
          "metadata": {},
          "execution_count": 7
        }
      ]
    },
    {
      "cell_type": "code",
      "source": [
        "lemma = WordNetLemmatizer()"
      ],
      "metadata": {
        "id": "FcKNDojEI3fy"
      },
      "execution_count": 15,
      "outputs": []
    },
    {
      "cell_type": "code",
      "source": [
        "lemma.lemmatize(\"history\")"
      ],
      "metadata": {
        "colab": {
          "base_uri": "https://localhost:8080/",
          "height": 35
        },
        "id": "usFxtcMxI6gj",
        "outputId": "9f71d0f6-0782-40b0-a371-aed44a0bfd42"
      },
      "execution_count": 16,
      "outputs": [
        {
          "output_type": "execute_result",
          "data": {
            "text/plain": [
              "'history'"
            ],
            "application/vnd.google.colaboratory.intrinsic+json": {
              "type": "string"
            }
          },
          "metadata": {},
          "execution_count": 16
        }
      ]
    },
    {
      "cell_type": "code",
      "source": [
        "len(sentences)"
      ],
      "metadata": {
        "colab": {
          "base_uri": "https://localhost:8080/"
        },
        "id": "A01UGF79I9pe",
        "outputId": "91b95c28-cbf0-46f3-9b41-2ec584fa5cef"
      },
      "execution_count": 18,
      "outputs": [
        {
          "output_type": "execute_result",
          "data": {
            "text/plain": [
              "4"
            ]
          },
          "metadata": {},
          "execution_count": 18
        }
      ]
    },
    {
      "cell_type": "code",
      "source": [
        "corpus = []\n",
        "for i in range(len(sentences)):\n",
        "  review = re.sub('[^a-zA-Z]',' ',sentences[i])\n",
        "  review = review.lower()\n",
        "  corpus.append(review)"
      ],
      "metadata": {
        "id": "X1DURK0NLOY5"
      },
      "execution_count": 20,
      "outputs": []
    },
    {
      "cell_type": "code",
      "source": [
        "corpus"
      ],
      "metadata": {
        "colab": {
          "base_uri": "https://localhost:8080/"
        },
        "id": "BKR9hMM4YcKm",
        "outputId": "3c072fad-016f-4709-f4d9-f4483742d01e"
      },
      "execution_count": 21,
      "outputs": [
        {
          "output_type": "execute_result",
          "data": {
            "text/plain": [
              "['india  officially the republic of india  hindi  bh rat ga ar jya  is a country in south asia ',\n",
              " 'it is the seventh largest country by area  the second most populous country  and the most populous democracy in the world ',\n",
              " 'bounded by the indian ocean on the south  the arabian sea on the southwest  and the bay of bengal on the southeast  it shares land borders with pakistan to the west  f  china  nepal  and bhutan to the north  and bangladesh and myanmar to the east ',\n",
              " 'in the indian ocean  india is in the vicinity of sri lanka and the maldives  its andaman and nicobar islands share a maritime border with thailand  myanmar and indonesia ']"
            ]
          },
          "metadata": {},
          "execution_count": 21
        }
      ]
    },
    {
      "cell_type": "code",
      "source": [
        "## stemming\n",
        "for i in corpus:\n",
        "  words = nltk.word_tokenize(i)\n",
        "  for word in words:\n",
        "    if word not in set(stopwords.words('english')):\n",
        "      print(lemma.lemmatize(word))"
      ],
      "metadata": {
        "colab": {
          "base_uri": "https://localhost:8080/"
        },
        "id": "14hwk1C1YeXU",
        "outputId": "b2dcda54-ff19-470b-da8f-94ac9ebc8a9e"
      },
      "execution_count": 23,
      "outputs": [
        {
          "output_type": "stream",
          "name": "stdout",
          "text": [
            "india\n",
            "officially\n",
            "republic\n",
            "india\n",
            "hindi\n",
            "bh\n",
            "rat\n",
            "ga\n",
            "ar\n",
            "jya\n",
            "country\n",
            "south\n",
            "asia\n",
            "seventh\n",
            "largest\n",
            "country\n",
            "area\n",
            "second\n",
            "populous\n",
            "country\n",
            "populous\n",
            "democracy\n",
            "world\n",
            "bounded\n",
            "indian\n",
            "ocean\n",
            "south\n",
            "arabian\n",
            "sea\n",
            "southwest\n",
            "bay\n",
            "bengal\n",
            "southeast\n",
            "share\n",
            "land\n",
            "border\n",
            "pakistan\n",
            "west\n",
            "f\n",
            "china\n",
            "nepal\n",
            "bhutan\n",
            "north\n",
            "bangladesh\n",
            "myanmar\n",
            "east\n",
            "indian\n",
            "ocean\n",
            "india\n",
            "vicinity\n",
            "sri\n",
            "lanka\n",
            "maldives\n",
            "andaman\n",
            "nicobar\n",
            "island\n",
            "share\n",
            "maritime\n",
            "border\n",
            "thailand\n",
            "myanmar\n",
            "indonesia\n"
          ]
        }
      ]
    },
    {
      "cell_type": "code",
      "source": [
        "# Bag of word\n",
        "from sklearn.feature_extraction.text import CountVectorizer"
      ],
      "metadata": {
        "id": "WTm1AT4_ZGm4"
      },
      "execution_count": 24,
      "outputs": []
    },
    {
      "cell_type": "code",
      "source": [
        "cv = CountVectorizer(binary = True)"
      ],
      "metadata": {
        "id": "84fv47PWgVsc"
      },
      "execution_count": 30,
      "outputs": []
    },
    {
      "cell_type": "code",
      "source": [
        "X = cv.fit_transform(corpus)"
      ],
      "metadata": {
        "id": "ulRgpwrtgYlE"
      },
      "execution_count": 31,
      "outputs": []
    },
    {
      "cell_type": "code",
      "source": [
        "cv.vocabulary_ # it is word with index"
      ],
      "metadata": {
        "colab": {
          "base_uri": "https://localhost:8080/"
        },
        "id": "tbVDgLQjgisB",
        "outputId": "f9529ec0-719f-4dda-8079-2a89b5879d72"
      },
      "execution_count": 32,
      "outputs": [
        {
          "output_type": "execute_result",
          "data": {
            "text/plain": [
              "{'and': 0,\n",
              " 'andaman': 1,\n",
              " 'ar': 2,\n",
              " 'arabian': 3,\n",
              " 'area': 4,\n",
              " 'asia': 5,\n",
              " 'bangladesh': 6,\n",
              " 'bay': 7,\n",
              " 'bengal': 8,\n",
              " 'bh': 9,\n",
              " 'bhutan': 10,\n",
              " 'border': 11,\n",
              " 'borders': 12,\n",
              " 'bounded': 13,\n",
              " 'by': 14,\n",
              " 'china': 15,\n",
              " 'country': 16,\n",
              " 'democracy': 17,\n",
              " 'east': 18,\n",
              " 'ga': 19,\n",
              " 'hindi': 20,\n",
              " 'in': 21,\n",
              " 'india': 22,\n",
              " 'indian': 23,\n",
              " 'indonesia': 24,\n",
              " 'is': 25,\n",
              " 'islands': 26,\n",
              " 'it': 27,\n",
              " 'its': 28,\n",
              " 'jya': 29,\n",
              " 'land': 30,\n",
              " 'lanka': 31,\n",
              " 'largest': 32,\n",
              " 'maldives': 33,\n",
              " 'maritime': 34,\n",
              " 'most': 35,\n",
              " 'myanmar': 36,\n",
              " 'nepal': 37,\n",
              " 'nicobar': 38,\n",
              " 'north': 39,\n",
              " 'ocean': 40,\n",
              " 'of': 41,\n",
              " 'officially': 42,\n",
              " 'on': 43,\n",
              " 'pakistan': 44,\n",
              " 'populous': 45,\n",
              " 'rat': 46,\n",
              " 'republic': 47,\n",
              " 'sea': 48,\n",
              " 'second': 49,\n",
              " 'seventh': 50,\n",
              " 'share': 51,\n",
              " 'shares': 52,\n",
              " 'south': 53,\n",
              " 'southeast': 54,\n",
              " 'southwest': 55,\n",
              " 'sri': 56,\n",
              " 'thailand': 57,\n",
              " 'the': 58,\n",
              " 'to': 59,\n",
              " 'vicinity': 60,\n",
              " 'west': 61,\n",
              " 'with': 62,\n",
              " 'world': 63}"
            ]
          },
          "metadata": {},
          "execution_count": 32
        }
      ]
    },
    {
      "cell_type": "code",
      "source": [
        "corpus[0]"
      ],
      "metadata": {
        "colab": {
          "base_uri": "https://localhost:8080/",
          "height": 35
        },
        "id": "36kzt2ZZgnce",
        "outputId": "3d81a505-bca9-43ed-9782-6382a5d45131"
      },
      "execution_count": 33,
      "outputs": [
        {
          "output_type": "execute_result",
          "data": {
            "text/plain": [
              "'india  officially the republic of india  hindi  bh rat ga ar jya  is a country in south asia '"
            ],
            "application/vnd.google.colaboratory.intrinsic+json": {
              "type": "string"
            }
          },
          "metadata": {},
          "execution_count": 33
        }
      ]
    },
    {
      "cell_type": "code",
      "source": [
        "X[0].toarray()"
      ],
      "metadata": {
        "colab": {
          "base_uri": "https://localhost:8080/"
        },
        "id": "_PROQlodgsx0",
        "outputId": "3adda91d-1d38-4575-94f2-73c4a7b6eed2"
      },
      "execution_count": 34,
      "outputs": [
        {
          "output_type": "execute_result",
          "data": {
            "text/plain": [
              "array([[0, 0, 1, 0, 0, 1, 0, 0, 0, 1, 0, 0, 0, 0, 0, 0, 1, 0, 0, 1, 1, 1,\n",
              "        1, 0, 0, 1, 0, 0, 0, 1, 0, 0, 0, 0, 0, 0, 0, 0, 0, 0, 0, 1, 1, 0,\n",
              "        0, 0, 1, 1, 0, 0, 0, 0, 0, 1, 0, 0, 0, 0, 1, 0, 0, 0, 0, 0]])"
            ]
          },
          "metadata": {},
          "execution_count": 34
        }
      ]
    },
    {
      "cell_type": "code",
      "source": [
        ""
      ],
      "metadata": {
        "id": "oL-zjONjgxNu"
      },
      "execution_count": null,
      "outputs": []
    }
  ]
}