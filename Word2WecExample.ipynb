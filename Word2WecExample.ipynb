{
  "nbformat": 4,
  "nbformat_minor": 0,
  "metadata": {
    "colab": {
      "name": "Word2WecExample.ipynb",
      "provenance": []
    },
    "kernelspec": {
      "name": "python3",
      "display_name": "Python 3"
    },
    "language_info": {
      "name": "python"
    }
  },
  "cells": [
    {
      "cell_type": "code",
      "execution_count": null,
      "metadata": {
        "id": "UBRkD2BlanYJ"
      },
      "outputs": [],
      "source": [
        "import nltk\n",
        "from gensim.models import Word2Vec\n",
        "from nltk.corpus import stopwords\n",
        "import re"
      ]
    },
    {
      "cell_type": "code",
      "source": [
        "nltk.download('punkt')"
      ],
      "metadata": {
        "colab": {
          "base_uri": "https://localhost:8080/"
        },
        "id": "R6EJa-C2cS9R",
        "outputId": "536887dd-1747-4cb5-e857-67ab2f536fb6"
      },
      "execution_count": null,
      "outputs": [
        {
          "output_type": "stream",
          "name": "stdout",
          "text": [
            "[nltk_data] Downloading package punkt to /root/nltk_data...\n",
            "[nltk_data]   Unzipping tokenizers/punkt.zip.\n"
          ]
        },
        {
          "output_type": "execute_result",
          "data": {
            "text/plain": [
              "True"
            ]
          },
          "metadata": {},
          "execution_count": 6
        }
      ]
    },
    {
      "cell_type": "code",
      "source": [
        "nltk.download('stopwords')"
      ],
      "metadata": {
        "colab": {
          "base_uri": "https://localhost:8080/"
        },
        "id": "6zFtdTXYdEpe",
        "outputId": "8869ed9c-5655-4a60-bb8d-c75fcbb8e460"
      },
      "execution_count": null,
      "outputs": [
        {
          "output_type": "stream",
          "name": "stdout",
          "text": [
            "[nltk_data] Downloading package stopwords to /root/nltk_data...\n",
            "[nltk_data]   Unzipping corpora/stopwords.zip.\n"
          ]
        },
        {
          "output_type": "execute_result",
          "data": {
            "text/plain": [
              "True"
            ]
          },
          "metadata": {},
          "execution_count": 12
        }
      ]
    },
    {
      "cell_type": "code",
      "source": [
        "para = \"The seventh-largest country by area, India is located on the Indian subcontinent in South Asia. India was home to the ancient Indus Valley Civilisation, and is the birthplace of four world religions: Hinduism, Sikhism, Buddhism, Jainism. India endured colonisation, eventually being administered by the United Kingdom from the mid-19th century to the mid-20th century. India became an independent nation in 1947 after a struggle for independence that was mainly non-violent resistance, led by influential figures like Mahatma Gandhi, and underwent a violent partition. India is the second most populous country with over 1.4 billion people, and is also the most populous democracy in the world.\""
      ],
      "metadata": {
        "id": "AbF1Z2t1a3yD"
      },
      "execution_count": null,
      "outputs": []
    },
    {
      "cell_type": "code",
      "source": [
        "text = re.sub(r'\\[[0-9]*\\]',' ',para)\n",
        "text = re.sub(r'\\s+',' ',text)\n",
        "text = text.lower()\n",
        "text = re.sub(r'/d',' ',text)\n",
        "text = re.sub(r'\\s+',' ',text)"
      ],
      "metadata": {
        "id": "fguJy64_bJ5n"
      },
      "execution_count": null,
      "outputs": []
    },
    {
      "cell_type": "code",
      "source": [
        "sentence = nltk.sent_tokenize(text)"
      ],
      "metadata": {
        "id": "RL5owedab_w3"
      },
      "execution_count": null,
      "outputs": []
    },
    {
      "cell_type": "code",
      "source": [
        "sentence"
      ],
      "metadata": {
        "colab": {
          "base_uri": "https://localhost:8080/"
        },
        "id": "rqY2tXNkcKc-",
        "outputId": "005f6cce-e1b4-4d72-cd4b-8ea629ad2672"
      },
      "execution_count": null,
      "outputs": [
        {
          "output_type": "execute_result",
          "data": {
            "text/plain": [
              "['the seventh-largest country by area, india is located on the indian subcontinent in south asia.',\n",
              " 'india was home to the ancient indus valley civilisation, and is the birthplace of four world religions: hinduism, sikhism, buddhism, jainism.',\n",
              " 'india endured colonisation, eventually being administered by the united kingdom from the mid-19th century to the mid-20th century.',\n",
              " 'india became an independent nation in 1947 after a struggle for independence that was mainly non-violent resistance, led by influential figures like mahatma gandhi, and underwent a violent partition.',\n",
              " 'india is the second most populous country with over 1.4 billion people, and is also the most populous democracy in the world.']"
            ]
          },
          "metadata": {},
          "execution_count": 8
        }
      ]
    },
    {
      "cell_type": "code",
      "source": [
        "sentence = [nltk.word_tokenize(sentence) for sentence in sentence]"
      ],
      "metadata": {
        "id": "2z3CXpF8cWfU"
      },
      "execution_count": null,
      "outputs": []
    },
    {
      "cell_type": "code",
      "source": [
        "for i in range(len(sentence)):\n",
        "  sentence[i] = [word for word in sentence[i] if word not in stopwords.words('english')]"
      ],
      "metadata": {
        "id": "RxHJ-L7Wcohp"
      },
      "execution_count": null,
      "outputs": []
    },
    {
      "cell_type": "code",
      "source": [
        "model = Word2Vec(sentence,min_count=1)"
      ],
      "metadata": {
        "id": "4fXFbrRQdApV"
      },
      "execution_count": null,
      "outputs": []
    },
    {
      "cell_type": "code",
      "source": [
        "words = model.wv.vocab"
      ],
      "metadata": {
        "id": "n27P4AbLdb_E"
      },
      "execution_count": null,
      "outputs": []
    },
    {
      "cell_type": "code",
      "source": [
        "words"
      ],
      "metadata": {
        "colab": {
          "base_uri": "https://localhost:8080/"
        },
        "id": "3PI6KBfwdg9Z",
        "outputId": "b19017ca-44ba-411b-c49a-f2ed9c83aeb3"
      },
      "execution_count": null,
      "outputs": [
        {
          "output_type": "execute_result",
          "data": {
            "text/plain": [
              "{',': <gensim.models.keyedvectors.Vocab at 0x7f2af3196690>,\n",
              " '.': <gensim.models.keyedvectors.Vocab at 0x7f2af31967d0>,\n",
              " '1.4': <gensim.models.keyedvectors.Vocab at 0x7f2af319a0d0>,\n",
              " '1947': <gensim.models.keyedvectors.Vocab at 0x7f2af319a810>,\n",
              " ':': <gensim.models.keyedvectors.Vocab at 0x7f2af3196550>,\n",
              " 'administered': <gensim.models.keyedvectors.Vocab at 0x7f2af3196250>,\n",
              " 'also': <gensim.models.keyedvectors.Vocab at 0x7f2af3192b90>,\n",
              " 'ancient': <gensim.models.keyedvectors.Vocab at 0x7f2af3196890>,\n",
              " 'area': <gensim.models.keyedvectors.Vocab at 0x7f2af3196710>,\n",
              " 'asia': <gensim.models.keyedvectors.Vocab at 0x7f2af3196f50>,\n",
              " 'became': <gensim.models.keyedvectors.Vocab at 0x7f2af319a450>,\n",
              " 'billion': <gensim.models.keyedvectors.Vocab at 0x7f2af319a590>,\n",
              " 'birthplace': <gensim.models.keyedvectors.Vocab at 0x7f2af31961d0>,\n",
              " 'buddhism': <gensim.models.keyedvectors.Vocab at 0x7f2af3196350>,\n",
              " 'century': <gensim.models.keyedvectors.Vocab at 0x7f2af3196e50>,\n",
              " 'civilisation': <gensim.models.keyedvectors.Vocab at 0x7f2af3196490>,\n",
              " 'colonisation': <gensim.models.keyedvectors.Vocab at 0x7f2af3196090>,\n",
              " 'country': <gensim.models.keyedvectors.Vocab at 0x7f2af3196ad0>,\n",
              " 'democracy': <gensim.models.keyedvectors.Vocab at 0x7f2af3192a10>,\n",
              " 'endured': <gensim.models.keyedvectors.Vocab at 0x7f2af3196b10>,\n",
              " 'eventually': <gensim.models.keyedvectors.Vocab at 0x7f2af3196810>,\n",
              " 'figures': <gensim.models.keyedvectors.Vocab at 0x7f2af319a510>,\n",
              " 'four': <gensim.models.keyedvectors.Vocab at 0x7f2af31963d0>,\n",
              " 'gandhi': <gensim.models.keyedvectors.Vocab at 0x7f2af319af50>,\n",
              " 'hinduism': <gensim.models.keyedvectors.Vocab at 0x7f2af3196f90>,\n",
              " 'home': <gensim.models.keyedvectors.Vocab at 0x7f2af3196510>,\n",
              " 'independence': <gensim.models.keyedvectors.Vocab at 0x7f2af319a410>,\n",
              " 'independent': <gensim.models.keyedvectors.Vocab at 0x7f2af319aa10>,\n",
              " 'india': <gensim.models.keyedvectors.Vocab at 0x7f2af3196050>,\n",
              " 'indian': <gensim.models.keyedvectors.Vocab at 0x7f2af3196f10>,\n",
              " 'indus': <gensim.models.keyedvectors.Vocab at 0x7f2af3196390>,\n",
              " 'influential': <gensim.models.keyedvectors.Vocab at 0x7f2af319a210>,\n",
              " 'jainism': <gensim.models.keyedvectors.Vocab at 0x7f2af3196d10>,\n",
              " 'kingdom': <gensim.models.keyedvectors.Vocab at 0x7f2af3196fd0>,\n",
              " 'led': <gensim.models.keyedvectors.Vocab at 0x7f2af319a390>,\n",
              " 'like': <gensim.models.keyedvectors.Vocab at 0x7f2af319a050>,\n",
              " 'located': <gensim.models.keyedvectors.Vocab at 0x7f2af31965d0>,\n",
              " 'mahatma': <gensim.models.keyedvectors.Vocab at 0x7f2af319a350>,\n",
              " 'mainly': <gensim.models.keyedvectors.Vocab at 0x7f2af319a5d0>,\n",
              " 'mid-19th': <gensim.models.keyedvectors.Vocab at 0x7f2af3196850>,\n",
              " 'mid-20th': <gensim.models.keyedvectors.Vocab at 0x7f2af319afd0>,\n",
              " 'nation': <gensim.models.keyedvectors.Vocab at 0x7f2af319ae50>,\n",
              " 'non-violent': <gensim.models.keyedvectors.Vocab at 0x7f2af319ac90>,\n",
              " 'partition': <gensim.models.keyedvectors.Vocab at 0x7f2af319a150>,\n",
              " 'people': <gensim.models.keyedvectors.Vocab at 0x7f2af319a110>,\n",
              " 'populous': <gensim.models.keyedvectors.Vocab at 0x7f2af319a990>,\n",
              " 'religions': <gensim.models.keyedvectors.Vocab at 0x7f2af3196910>,\n",
              " 'resistance': <gensim.models.keyedvectors.Vocab at 0x7f2af319ad10>,\n",
              " 'second': <gensim.models.keyedvectors.Vocab at 0x7f2af319a850>,\n",
              " 'seventh-largest': <gensim.models.keyedvectors.Vocab at 0x7f2af3196650>,\n",
              " 'sikhism': <gensim.models.keyedvectors.Vocab at 0x7f2af3196410>,\n",
              " 'south': <gensim.models.keyedvectors.Vocab at 0x7f2af31969d0>,\n",
              " 'struggle': <gensim.models.keyedvectors.Vocab at 0x7f2af319a290>,\n",
              " 'subcontinent': <gensim.models.keyedvectors.Vocab at 0x7f2af3196790>,\n",
              " 'underwent': <gensim.models.keyedvectors.Vocab at 0x7f2af319ae10>,\n",
              " 'united': <gensim.models.keyedvectors.Vocab at 0x7f2af31968d0>,\n",
              " 'valley': <gensim.models.keyedvectors.Vocab at 0x7f2af3196590>,\n",
              " 'violent': <gensim.models.keyedvectors.Vocab at 0x7f2af319a710>,\n",
              " 'world': <gensim.models.keyedvectors.Vocab at 0x7f2af3196a50>}"
            ]
          },
          "metadata": {},
          "execution_count": 16
        }
      ]
    },
    {
      "cell_type": "code",
      "source": [
        "vector = model.wv['world']"
      ],
      "metadata": {
        "id": "nM66VneNdkHO"
      },
      "execution_count": null,
      "outputs": []
    },
    {
      "cell_type": "code",
      "source": [
        "vector"
      ],
      "metadata": {
        "colab": {
          "base_uri": "https://localhost:8080/"
        },
        "id": "OKjfxqPgd4sQ",
        "outputId": "cd7e653a-de00-4495-cec9-50a560dac66b"
      },
      "execution_count": null,
      "outputs": [
        {
          "output_type": "execute_result",
          "data": {
            "text/plain": [
              "array([-1.9411991e-03,  1.2017612e-03,  2.4262044e-04, -3.8170007e-03,\n",
              "       -1.2385879e-03, -4.2980959e-04,  2.9081993e-03, -3.8333745e-03,\n",
              "       -1.6047052e-03,  1.9959153e-03,  1.9501123e-03, -3.4349256e-03,\n",
              "        3.6098275e-03, -4.6189660e-03, -3.4412313e-03,  2.8918053e-05,\n",
              "       -2.9144131e-03,  3.6463786e-03, -2.8946360e-03,  4.3985182e-03,\n",
              "       -1.1352410e-03, -3.9198967e-03,  3.3088129e-03,  2.4315573e-03,\n",
              "        4.4140755e-03,  2.7992029e-03,  2.4285496e-03,  4.2340974e-03,\n",
              "       -1.5835157e-03, -2.4690311e-03, -3.0057649e-03,  7.7445147e-04,\n",
              "       -1.2879558e-04,  4.4411207e-03,  4.2981617e-03,  5.7493238e-04,\n",
              "       -2.0538454e-03, -2.6301646e-05, -7.4582733e-04,  1.4418102e-03,\n",
              "        4.2293556e-03,  3.1302783e-03,  3.1024714e-03, -3.6251026e-03,\n",
              "       -4.1078683e-03,  1.2357499e-03, -4.5187678e-03, -3.7873751e-03,\n",
              "       -1.5064098e-03,  3.1737902e-03,  1.1453575e-04,  4.5707743e-03,\n",
              "        1.8475688e-03,  2.6071188e-03, -2.6813643e-03, -1.3094093e-03,\n",
              "        4.8004952e-03,  2.0640509e-03, -2.2527941e-03,  3.4246705e-03,\n",
              "        1.8547622e-03,  5.2229938e-04, -1.0716631e-03,  8.6317997e-04,\n",
              "       -4.5587854e-03, -3.4656850e-04,  3.8653327e-04, -3.3818430e-03,\n",
              "       -8.7922532e-04,  3.3402022e-03, -2.5894763e-03,  1.9088384e-03,\n",
              "       -4.7480264e-03,  2.0719843e-03, -3.2248243e-03, -3.0851641e-03,\n",
              "       -2.8221267e-03,  1.3265352e-03,  8.0593885e-04, -1.0597182e-03,\n",
              "        4.4878544e-03,  4.3874322e-03,  1.3514601e-03,  2.9026275e-03,\n",
              "        2.4141134e-03, -9.6479035e-04, -7.1865425e-04, -1.4847589e-03,\n",
              "       -1.0157129e-03,  7.3166651e-04, -1.0636942e-03,  4.5976047e-03,\n",
              "       -1.6175461e-04, -4.0812441e-03, -1.2327477e-03,  9.0023002e-04,\n",
              "        2.4486608e-03,  5.5211486e-04,  8.6801918e-04, -2.5125353e-03],\n",
              "      dtype=float32)"
            ]
          },
          "metadata": {},
          "execution_count": 18
        }
      ]
    },
    {
      "cell_type": "code",
      "source": [
        "similar = model.wv.most_similar('non-violent')"
      ],
      "metadata": {
        "id": "qvTuXQThd6SD"
      },
      "execution_count": null,
      "outputs": []
    },
    {
      "cell_type": "code",
      "source": [
        "similar"
      ],
      "metadata": {
        "colab": {
          "base_uri": "https://localhost:8080/"
        },
        "id": "rm0N14LMeCI0",
        "outputId": "05830507-7c9f-4b33-a498-6538ce8bba00"
      },
      "execution_count": null,
      "outputs": [
        {
          "output_type": "execute_result",
          "data": {
            "text/plain": [
              "[('nation', 0.22101934254169464),\n",
              " ('administered', 0.19506780803203583),\n",
              " ('independence', 0.1705702841281891),\n",
              " ('home', 0.16330260038375854),\n",
              " ('mid-19th', 0.15343865752220154),\n",
              " ('seventh-largest', 0.14178970456123352),\n",
              " ('like', 0.12409588694572449),\n",
              " ('area', 0.12180227786302567),\n",
              " ('birthplace', 0.10606834292411804),\n",
              " ('second', 0.10344862937927246)]"
            ]
          },
          "metadata": {},
          "execution_count": 22
        }
      ]
    },
    {
      "cell_type": "code",
      "source": [
        "model.wv.similarity(w1=\"country\",w2=\"nation\")"
      ],
      "metadata": {
        "colab": {
          "base_uri": "https://localhost:8080/"
        },
        "id": "239qRWaCeDon",
        "outputId": "625d303f-25eb-4c02-aaa6-f3ad2998f6b4"
      },
      "execution_count": null,
      "outputs": [
        {
          "output_type": "execute_result",
          "data": {
            "text/plain": [
              "-0.13838933"
            ]
          },
          "metadata": {},
          "execution_count": 25
        }
      ]
    },
    {
      "cell_type": "code",
      "source": [
        ""
      ],
      "metadata": {
        "id": "uZxtcGzyg_p4"
      },
      "execution_count": null,
      "outputs": []
    }
  ]
}